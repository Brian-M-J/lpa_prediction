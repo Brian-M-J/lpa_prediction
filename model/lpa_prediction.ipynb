{
 "cells": [
  {
   "cell_type": "code",
   "execution_count": 1,
   "id": "a4a64767-870c-4388-8d94-44fe80820858",
   "metadata": {},
   "outputs": [],
   "source": [
    "# Importing necessary libraries\n",
    "import pandas as pd\n",
    "import matplotlib.pyplot as plt\n",
    "import seaborn as sb\n",
    "from sklearn.preprocessing import PowerTransformer\n",
    "from sklearn.model_selection import train_test_split\n",
    "import statsmodels.api as sm\n",
    "from sklearn.metrics import mean_squared_error, mean_absolute_error, mean_absolute_percentage_error, r2_score"
   ]
  },
  {
   "cell_type": "markdown",
   "id": "a6c54498-6bc5-4945-83fb-fcd8b60ca9ee",
   "metadata": {},
   "source": [
    "# Importing Dataset"
   ]
  },
  {
   "cell_type": "code",
   "execution_count": 2,
   "id": "ab4f429e-c897-4bf0-94b2-e4e5a24f0c45",
   "metadata": {},
   "outputs": [
    {
     "data": {
      "text/html": [
       "<div>\n",
       "<style scoped>\n",
       "    .dataframe tbody tr th:only-of-type {\n",
       "        vertical-align: middle;\n",
       "    }\n",
       "\n",
       "    .dataframe tbody tr th {\n",
       "        vertical-align: top;\n",
       "    }\n",
       "\n",
       "    .dataframe thead th {\n",
       "        text-align: right;\n",
       "    }\n",
       "</style>\n",
       "<table border=\"1\" class=\"dataframe\">\n",
       "  <thead>\n",
       "    <tr style=\"text-align: right;\">\n",
       "      <th></th>\n",
       "      <th>cgpa</th>\n",
       "      <th>package</th>\n",
       "    </tr>\n",
       "  </thead>\n",
       "  <tbody>\n",
       "    <tr>\n",
       "      <th>0</th>\n",
       "      <td>6.89</td>\n",
       "      <td>3.26</td>\n",
       "    </tr>\n",
       "    <tr>\n",
       "      <th>1</th>\n",
       "      <td>5.12</td>\n",
       "      <td>1.98</td>\n",
       "    </tr>\n",
       "    <tr>\n",
       "      <th>2</th>\n",
       "      <td>7.82</td>\n",
       "      <td>3.25</td>\n",
       "    </tr>\n",
       "    <tr>\n",
       "      <th>3</th>\n",
       "      <td>7.42</td>\n",
       "      <td>3.67</td>\n",
       "    </tr>\n",
       "    <tr>\n",
       "      <th>4</th>\n",
       "      <td>6.94</td>\n",
       "      <td>3.57</td>\n",
       "    </tr>\n",
       "    <tr>\n",
       "      <th>...</th>\n",
       "      <td>...</td>\n",
       "      <td>...</td>\n",
       "    </tr>\n",
       "    <tr>\n",
       "      <th>195</th>\n",
       "      <td>6.93</td>\n",
       "      <td>2.46</td>\n",
       "    </tr>\n",
       "    <tr>\n",
       "      <th>196</th>\n",
       "      <td>5.89</td>\n",
       "      <td>2.57</td>\n",
       "    </tr>\n",
       "    <tr>\n",
       "      <th>197</th>\n",
       "      <td>7.21</td>\n",
       "      <td>3.24</td>\n",
       "    </tr>\n",
       "    <tr>\n",
       "      <th>198</th>\n",
       "      <td>7.63</td>\n",
       "      <td>3.96</td>\n",
       "    </tr>\n",
       "    <tr>\n",
       "      <th>199</th>\n",
       "      <td>6.22</td>\n",
       "      <td>2.33</td>\n",
       "    </tr>\n",
       "  </tbody>\n",
       "</table>\n",
       "<p>200 rows × 2 columns</p>\n",
       "</div>"
      ],
      "text/plain": [
       "     cgpa  package\n",
       "0    6.89     3.26\n",
       "1    5.12     1.98\n",
       "2    7.82     3.25\n",
       "3    7.42     3.67\n",
       "4    6.94     3.57\n",
       "..    ...      ...\n",
       "195  6.93     2.46\n",
       "196  5.89     2.57\n",
       "197  7.21     3.24\n",
       "198  7.63     3.96\n",
       "199  6.22     2.33\n",
       "\n",
       "[200 rows x 2 columns]"
      ]
     },
     "execution_count": 2,
     "metadata": {},
     "output_type": "execute_result"
    }
   ],
   "source": [
    "df = pd.read_csv(r\"C:\\Users\\mjb19\\coding_projects\\Internship_3_11_23\\lpa_prediction\\data\\placement.csv\")\n",
    "df"
   ]
  },
  {
   "cell_type": "markdown",
   "id": "d8895b09-5893-4c22-9d8c-6c5bb3c7bc90",
   "metadata": {},
   "source": [
    "# Finding info about the dataset"
   ]
  },
  {
   "cell_type": "code",
   "execution_count": 3,
   "id": "21d0c5f2-edf3-4280-88ad-7908f5f7ef11",
   "metadata": {},
   "outputs": [
    {
     "name": "stdout",
     "output_type": "stream",
     "text": [
      "<class 'pandas.core.frame.DataFrame'>\n",
      "RangeIndex: 200 entries, 0 to 199\n",
      "Data columns (total 2 columns):\n",
      " #   Column   Non-Null Count  Dtype  \n",
      "---  ------   --------------  -----  \n",
      " 0   cgpa     200 non-null    float64\n",
      " 1   package  200 non-null    float64\n",
      "dtypes: float64(2)\n",
      "memory usage: 3.3 KB\n"
     ]
    }
   ],
   "source": [
    "df.info()"
   ]
  },
  {
   "cell_type": "code",
   "execution_count": 4,
   "id": "148162a0-53f5-4bbc-b718-2cfb593a8ad2",
   "metadata": {},
   "outputs": [
    {
     "data": {
      "text/html": [
       "<div>\n",
       "<style scoped>\n",
       "    .dataframe tbody tr th:only-of-type {\n",
       "        vertical-align: middle;\n",
       "    }\n",
       "\n",
       "    .dataframe tbody tr th {\n",
       "        vertical-align: top;\n",
       "    }\n",
       "\n",
       "    .dataframe thead th {\n",
       "        text-align: right;\n",
       "    }\n",
       "</style>\n",
       "<table border=\"1\" class=\"dataframe\">\n",
       "  <thead>\n",
       "    <tr style=\"text-align: right;\">\n",
       "      <th></th>\n",
       "      <th>cgpa</th>\n",
       "      <th>package</th>\n",
       "    </tr>\n",
       "  </thead>\n",
       "  <tbody>\n",
       "    <tr>\n",
       "      <th>count</th>\n",
       "      <td>200.000000</td>\n",
       "      <td>200.000000</td>\n",
       "    </tr>\n",
       "    <tr>\n",
       "      <th>mean</th>\n",
       "      <td>6.990500</td>\n",
       "      <td>2.996050</td>\n",
       "    </tr>\n",
       "    <tr>\n",
       "      <th>std</th>\n",
       "      <td>1.069409</td>\n",
       "      <td>0.691644</td>\n",
       "    </tr>\n",
       "    <tr>\n",
       "      <th>min</th>\n",
       "      <td>4.260000</td>\n",
       "      <td>1.370000</td>\n",
       "    </tr>\n",
       "    <tr>\n",
       "      <th>25%</th>\n",
       "      <td>6.190000</td>\n",
       "      <td>2.487500</td>\n",
       "    </tr>\n",
       "    <tr>\n",
       "      <th>50%</th>\n",
       "      <td>6.965000</td>\n",
       "      <td>2.995000</td>\n",
       "    </tr>\n",
       "    <tr>\n",
       "      <th>75%</th>\n",
       "      <td>7.737500</td>\n",
       "      <td>3.492500</td>\n",
       "    </tr>\n",
       "    <tr>\n",
       "      <th>max</th>\n",
       "      <td>9.580000</td>\n",
       "      <td>4.620000</td>\n",
       "    </tr>\n",
       "  </tbody>\n",
       "</table>\n",
       "</div>"
      ],
      "text/plain": [
       "             cgpa     package\n",
       "count  200.000000  200.000000\n",
       "mean     6.990500    2.996050\n",
       "std      1.069409    0.691644\n",
       "min      4.260000    1.370000\n",
       "25%      6.190000    2.487500\n",
       "50%      6.965000    2.995000\n",
       "75%      7.737500    3.492500\n",
       "max      9.580000    4.620000"
      ]
     },
     "execution_count": 4,
     "metadata": {},
     "output_type": "execute_result"
    }
   ],
   "source": [
    "df.describe()"
   ]
  },
  {
   "cell_type": "markdown",
   "id": "94800d61-5b89-42b9-a656-167c8a0becfe",
   "metadata": {},
   "source": [
    "'package' is measured in Lakhs Per Annum (LPA)"
   ]
  },
  {
   "cell_type": "markdown",
   "id": "7ac733c8-dc84-4c69-a91c-03f0903bd3ff",
   "metadata": {},
   "source": [
    "# Checking for missing values"
   ]
  },
  {
   "cell_type": "code",
   "execution_count": 5,
   "id": "5d3338fa-7224-43a7-b8a8-0b9a833905d0",
   "metadata": {},
   "outputs": [
    {
     "data": {
      "text/plain": [
       "cgpa       0\n",
       "package    0\n",
       "dtype: int64"
      ]
     },
     "execution_count": 5,
     "metadata": {},
     "output_type": "execute_result"
    }
   ],
   "source": [
    "df.isnull().sum()"
   ]
  },
  {
   "cell_type": "markdown",
   "id": "e8edf339-d66a-4975-80b7-619d52cd4610",
   "metadata": {},
   "source": [
    "There are no missing values in the dataset"
   ]
  },
  {
   "cell_type": "markdown",
   "id": "067211ca-caba-43eb-9f66-301636c35fcf",
   "metadata": {},
   "source": [
    "# Univariate Analysis\n",
    "Checking the distributions of each variable in the dataset"
   ]
  },
  {
   "cell_type": "markdown",
   "id": "c7a0af03-b6b0-4d2a-b130-a9541a13c649",
   "metadata": {},
   "source": [
    "## Boxplots"
   ]
  },
  {
   "cell_type": "code",
   "execution_count": 6,
   "id": "2ae5c80c-2368-4b9e-b9b7-e90ada683eb3",
   "metadata": {},
   "outputs": [
    {
     "data": {
      "image/png": "[encoded data removed]",
      "text/plain": [
       "<Figure size 1000x500 with 2 Axes>"
      ]
     },
     "metadata": {},
     "output_type": "display_data"
    }
   ],
   "source": [
    "# Setting layout and size of the boxplots\n",
    "fig, axes = plt.subplots(1, 2, figsize=(10, 5))\n",
    "\n",
    "# Creating boxplots\n",
    "for column, subplot in zip(df.columns, axes.flatten()):\n",
    "    sb.boxplot(x = df[column], ax = subplot)\n",
    "    subplot.set_xlabel(column, fontsize = 15)\n",
    "\n",
    "# Displaying boxplots\n",
    "plt.tight_layout()\n",
    "plt.show()"
   ]
  },
  {
   "cell_type": "markdown",
   "id": "ac478aa9-33fa-4a21-b4e4-4842c9d7147a",
   "metadata": {},
   "source": [
    "As there are no circular markings beyond the vertical lines, there are no outliers in the dataset."
   ]
  },
  {
   "cell_type": "markdown",
   "id": "36620b2c-979f-4185-b3e1-fc1df3d1272e",
   "metadata": {},
   "source": [
    "## Density plots"
   ]
  },
  {
   "cell_type": "code",
   "execution_count": 7,
   "id": "789351aa-da2a-455d-beb6-2a925fbe5794",
   "metadata": {},
   "outputs": [
    {
     "data": {
      "image/png": "[encoded data removed]",
      "text/plain": [
       "<Figure size 1000x500 with 2 Axes>"
      ]
     },
     "metadata": {},
     "output_type": "display_data"
    }
   ],
   "source": [
    "# Setting size of the density plots\n",
    "plt.rcParams['figure.figsize'] = [10, 5]\n",
    "\n",
    "# Creating the density plots and setting layout\n",
    "df.plot(kind = 'density', subplots = True, sharex = False, layout = (1, 2))\n",
    "plt.show()"
   ]
  },
  {
   "cell_type": "markdown",
   "id": "4ec697c8-778a-432b-89ce-3ba58f88d4e5",
   "metadata": {},
   "source": [
    "As the data points are distributed around the middle, the dataset is neither left nor right skewed."
   ]
  },
  {
   "cell_type": "markdown",
   "id": "da508f79-61ec-4e41-a6a3-32ea600db835",
   "metadata": {},
   "source": [
    "# Skew\n",
    "Skewness of -0.5 to 0.5 is acceptable"
   ]
  },
  {
   "cell_type": "code",
   "execution_count": 8,
   "id": "8b12920b-91b1-4da3-80a2-703f6eab5609",
   "metadata": {},
   "outputs": [
    {
     "data": {
      "text/plain": [
       "cgpa       0.029655\n",
       "package   -0.004815\n",
       "dtype: float64"
      ]
     },
     "execution_count": 8,
     "metadata": {},
     "output_type": "execute_result"
    }
   ],
   "source": [
    "df.skew()"
   ]
  },
  {
   "cell_type": "markdown",
   "id": "d75a5083-dc29-467f-b22d-9ac5b8383bcc",
   "metadata": {},
   "source": [
    "# Kurtosis"
   ]
  },
  {
   "cell_type": "code",
   "execution_count": 9,
   "id": "f6d3e420-4c4a-4093-8a8b-6c90198f4774",
   "metadata": {},
   "outputs": [
    {
     "data": {
      "text/plain": [
       "cgpa      -0.356193\n",
       "package   -0.487355\n",
       "dtype: float64"
      ]
     },
     "execution_count": 9,
     "metadata": {},
     "output_type": "execute_result"
    }
   ],
   "source": [
    "df.kurt()"
   ]
  },
  {
   "cell_type": "markdown",
   "id": "83f262ef-086b-45e7-bdc6-5d37b99c3fbb",
   "metadata": {},
   "source": [
    "# Bivariate Analysis\n",
    "Analyzing the distributions of and relationships between the two variables "
   ]
  },
  {
   "cell_type": "code",
   "execution_count": 10,
   "id": "632a8561-a8c7-456e-9426-0534d12da9b9",
   "metadata": {},
   "outputs": [
    {
     "data": {
      "text/plain": [
       "<Axes: xlabel='cgpa', ylabel='package'>"
      ]
     },
     "execution_count": 10,
     "metadata": {},
     "output_type": "execute_result"
    },
    {
     "data": {
      "image/png": "[encoded data removed]",
      "text/plain": [
       "<Figure size 1000x500 with 1 Axes>"
      ]
     },
     "metadata": {},
     "output_type": "display_data"
    }
   ],
   "source": [
    "sb.scatterplot(df, x='cgpa', y='package')"
   ]
  },
  {
   "cell_type": "markdown",
   "id": "d8f4a209-8323-444f-bad2-1a1494a490f2",
   "metadata": {},
   "source": [
    "By observing the plot, we observe that there is an overall linear relationship between cgpa and lpa."
   ]
  },
  {
   "cell_type": "markdown",
   "id": "65dc3ad6-0238-4e32-8583-d90445db9028",
   "metadata": {},
   "source": [
    "# Correlation\n",
    "By measuring the correlation between the two variables, we can see how cgpa affects package."
   ]
  },
  {
   "cell_type": "code",
   "execution_count": 11,
   "id": "d2b63b50-03df-4aa3-9fc7-7e754875a4ad",
   "metadata": {},
   "outputs": [
    {
     "data": {
      "text/html": [
       "<div>\n",
       "<style scoped>\n",
       "    .dataframe tbody tr th:only-of-type {\n",
       "        vertical-align: middle;\n",
       "    }\n",
       "\n",
       "    .dataframe tbody tr th {\n",
       "        vertical-align: top;\n",
       "    }\n",
       "\n",
       "    .dataframe thead th {\n",
       "        text-align: right;\n",
       "    }\n",
       "</style>\n",
       "<table border=\"1\" class=\"dataframe\">\n",
       "  <thead>\n",
       "    <tr style=\"text-align: right;\">\n",
       "      <th></th>\n",
       "      <th>cgpa</th>\n",
       "      <th>package</th>\n",
       "    </tr>\n",
       "  </thead>\n",
       "  <tbody>\n",
       "    <tr>\n",
       "      <th>cgpa</th>\n",
       "      <td>1.000000</td>\n",
       "      <td>0.880692</td>\n",
       "    </tr>\n",
       "    <tr>\n",
       "      <th>package</th>\n",
       "      <td>0.880692</td>\n",
       "      <td>1.000000</td>\n",
       "    </tr>\n",
       "  </tbody>\n",
       "</table>\n",
       "</div>"
      ],
      "text/plain": [
       "             cgpa   package\n",
       "cgpa     1.000000  0.880692\n",
       "package  0.880692  1.000000"
      ]
     },
     "execution_count": 11,
     "metadata": {},
     "output_type": "execute_result"
    }
   ],
   "source": [
    "df.corr()"
   ]
  },
  {
   "cell_type": "code",
   "execution_count": 12,
   "id": "8afe85d0-3f64-45a9-8404-ee7d91ceaf77",
   "metadata": {},
   "outputs": [
    {
     "data": {
      "image/png": "[encoded data removed]",
      "text/plain": [
       "<Figure size 1000x500 with 2 Axes>"
      ]
     },
     "metadata": {},
     "output_type": "display_data"
    }
   ],
   "source": [
    "plt.figure(figsize=(10, 5))\n",
    "sb.heatmap(df.corr(), annot=True, cmap='YlGnBu')\n",
    "plt.show()"
   ]
  },
  {
   "cell_type": "markdown",
   "id": "1f1a5c2c-cdc6-4cd9-a2e0-0aa55a763ae0",
   "metadata": {},
   "source": [
    "Since the correlation between cgpa and package is high (0.88), we can use cgpa to predict package."
   ]
  },
  {
   "cell_type": "markdown",
   "id": "da7e279b-1184-440c-96a6-5e2417fef60d",
   "metadata": {},
   "source": [
    "# Preparing the data for the model\n",
    "\n",
    "ML models assume the data given to be normally distributed (mean = 0, standard deviation = 1). We use `PowerTransformer` to normalize the data to work with the model's assumptions."
   ]
  },
  {
   "cell_type": "code",
   "execution_count": 13,
   "id": "bdc803f9-c15f-4513-be57-a99ad73dea8e",
   "metadata": {
    "scrolled": true
   },
   "outputs": [
    {
     "data": {
      "text/plain": [
       "array([[-8.52489313e-02,  3.86630047e-01],\n",
       "       [-1.77283987e+00, -1.47839953e+00],\n",
       "       [ 7.80610653e-01,  3.72200300e-01],\n",
       "       [ 4.09766491e-01,  9.76609433e-01],\n",
       "       [-3.83645385e-02,  8.32999872e-01],\n",
       "       [ 8.45275592e-01, -3.68015766e-03],\n",
       "       [-2.35546287e-01, -5.70207543e-01],\n",
       "       [-2.16736638e-01, -7.45225075e-01],\n",
       "       [-8.40984540e-01, -9.93770436e-01],\n",
       "       [ 1.23186329e+00,  7.46746739e-01],\n",
       "       [-1.57918765e+00, -1.65538547e+00],\n",
       "       [-3.48540916e-01, -5.70207543e-01],\n",
       "       [ 1.80743929e+00,  9.47901931e-01],\n",
       "       [-4.77382654e-02, -1.48623902e-01],\n",
       "       [ 6.97369495e-01,  6.17241732e-01],\n",
       "       [ 2.51452508e-01,  3.43334884e-01],\n",
       "       [-1.32172890e-01, -9.35223832e-01],\n",
       "       [-1.52125207e+00, -1.31652614e+00],\n",
       "       [-3.83645385e-02, -1.81649514e-02],\n",
       "       [ 4.65540062e-01, -2.35693734e-01],\n",
       "       [ 2.79421581e-01,  2.42243234e-01],\n",
       "       [-1.22784919e-01, -9.06207417e-02],\n",
       "       [-7.93430418e-01, -1.00841349e+00],\n",
       "       [-7.45920603e-01, -7.45225075e-01],\n",
       "       [-4.24002313e-01, -4.10072513e-01],\n",
       "       [ 2.79421581e-01,  9.47901931e-01],\n",
       "       [ 1.23186329e+00,  6.17241732e-01],\n",
       "       [-1.48266867e+00, -1.21369071e+00],\n",
       "       [-9.83916319e-01, -1.09632623e+00],\n",
       "       [ 1.58124153e-01,  7.17980925e-01],\n",
       "       [ 3.53939992e-01,  3.86630047e-01],\n",
       "       [ 1.03886635e+00,  1.29192769e+00],\n",
       "       [-1.96217965e-02,  1.26588777e-01],\n",
       "       [-5.94182909e-01, -3.80986911e-01],\n",
       "       [ 3.35319323e-01,  6.17241732e-01],\n",
       "       [-1.04013751e-01, -1.77638454e-01],\n",
       "       [-9.36227128e-01, -2.21176626e-01],\n",
       "       [-1.02210060e+00, -8.18251882e-01],\n",
       "       [ 1.51571017e+00,  1.96285192e+00],\n",
       "       [ 4.19065750e-01,  4.87583470e-01],\n",
       "       [ 2.20653867e+00,  1.47786274e+00],\n",
       "       [-8.52489313e-02, -4.24618726e-01],\n",
       "       [-9.74374832e-01, -6.57673236e-01],\n",
       "       [ 6.32547411e-01, -3.37375473e-01],\n",
       "       [-1.80195976e+00, -1.65538547e+00],\n",
       "       [ 8.26806834e-01,  8.47368977e-01],\n",
       "       [-8.60018674e-01, -1.06701156e+00],\n",
       "       [-1.07943235e+00,  3.86630047e-01],\n",
       "       [ 1.52484605e+00,  1.57786536e+00],\n",
       "       [ 1.74373175e+00,  2.33251561e+00],\n",
       "       [ 2.38719849e+00,  2.06247718e+00],\n",
       "       [ 2.09792073e+00,  1.14870563e+00],\n",
       "       [ 1.28689835e+00,  1.60642282e+00],\n",
       "       [-4.80668375e-01, -5.55638196e-01],\n",
       "       [-1.13398540e-01,  1.41052735e-01],\n",
       "       [ 1.13084277e+00,  5.74039503e-01],\n",
       "       [-1.07943235e+00, -3.66447509e-01],\n",
       "       [-3.57967794e-01, -1.53734802e+00],\n",
       "       [-5.71135658e-02,  1.41052735e-01],\n",
       "       [ 5.39823221e-01,  4.58749374e-01],\n",
       "       [-1.29983051e+00, -1.16965903e+00],\n",
       "       [-1.42485346e+00, -2.02551681e+00],\n",
       "       [-6.03653539e-01, -1.31652614e+00],\n",
       "       [ 2.00727659e+00,  1.80614480e+00],\n",
       "       [ 3.53939992e-01, -1.05118304e-01],\n",
       "       [ 5.76930107e-01,  1.17736382e+00],\n",
       "       [-1.78254438e+00, -1.99583297e+00],\n",
       "       [-4.42884299e-01, -1.48623902e-01],\n",
       "       [ 5.39823221e-01, -3.68015766e-03],\n",
       "       [ 2.98060133e-01, -7.61253218e-02],\n",
       "       [-1.12725994e+00, -9.35223832e-01],\n",
       "       [ 4.56248124e-01,  5.01997615e-01],\n",
       "       [ 7.43628610e-01,  9.04827220e-01],\n",
       "       [ 1.35104667e+00,  1.49215376e+00],\n",
       "       [-1.22784919e-01,  6.46033751e-01],\n",
       "       [-1.02527769e-02,  4.15483645e-01],\n",
       "       [-3.83645385e-02,  2.27793542e-01],\n",
       "       [ 1.85290811e+00,  2.30411579e+00],\n",
       "       [-3.67396323e-01, -1.14031796e+00],\n",
       "       [ 1.86138582e-01,  1.08025278e-02],\n",
       "       [ 6.04745193e-01,  6.46033751e-01],\n",
       "       [-8.31470154e-01, -1.15498716e+00],\n",
       "       [-1.32865268e+00, -1.19901080e+00],\n",
       "       [ 1.35104667e+00,  7.17980925e-01],\n",
       "       [-2.61559042e+00, -2.14438542e+00],\n",
       "       [-2.09422732e+00, -2.21878881e+00],\n",
       "       [ 5.86203235e-01, -3.22842825e-01],\n",
       "       [ 1.02966133e+00,  8.04256178e-01],\n",
       "       [-2.15291985e+00, -2.21878881e+00],\n",
       "       [-5.27936375e-01, -3.95528577e-01],\n",
       "       [ 1.20750213e-01, -4.82826479e-01],\n",
       "       [-7.17435837e-01, -1.24305863e+00],\n",
       "       [ 8.54507897e-01,  1.44927573e+00],\n",
       "       [-1.79136701e-01,  1.26588777e-01],\n",
       "       [-1.08899413e+00, -8.32864635e-01],\n",
       "       [-3.29692104e-01, -2.93784240e-01],\n",
       "       [ 1.20750213e-01, -5.55638196e-01],\n",
       "       [-9.45761324e-01, -2.21176626e-01],\n",
       "       [ 6.60336812e-01,  1.20601510e+00],\n",
       "       [-3.48540916e-01,  3.57768580e-01],\n",
       "       [ 9.00648744e-01,  1.64924686e+00],\n",
       "       [-2.54362415e-01,  7.61126866e-01],\n",
       "       [-1.76313746e+00, -2.38278581e+00],\n",
       "       [ 6.46432388e-02,  1.08025278e-02],\n",
       "       [ 5.95474930e-01,  1.07702968e+00],\n",
       "       [-3.01431208e-01, -2.50213043e-01],\n",
       "       [-8.02937687e-01, -1.16965903e+00],\n",
       "       [-6.13125886e-01, -5.84779241e-01],\n",
       "       [ 7.25129183e-01,  7.89881581e-01],\n",
       "       [ 7.34379598e-01,  1.53501694e+00],\n",
       "       [ 1.11245817e+00,  1.10570530e+00],\n",
       "       [-1.48266867e+00, -1.08166758e+00],\n",
       "       [ 1.47915398e+00,  1.59214491e+00],\n",
       "       [-3.83645385e-02, -9.05965783e-01],\n",
       "       [-1.07943235e+00, -1.64062040e+00],\n",
       "       [ 1.26855856e+00,  1.74911331e+00],\n",
       "       [ 1.89834664e+00,  4.87583470e-01],\n",
       "       [ 1.30095994e-01, -3.68015766e-03],\n",
       "       [ 3.91163560e-01, -1.63130092e-01],\n",
       "       [ 3.81859884e-01, -4.97384176e-01],\n",
       "       [-1.66622864e+00, -1.84760829e+00],\n",
       "       [-4.52327801e-01,  3.97615962e-02],\n",
       "       [-1.77283987e+00, -1.43421835e+00],\n",
       "       [-1.79225101e+00, -1.00841349e+00],\n",
       "       [-8.69538428e-01, -9.93770436e-01],\n",
       "       [ 3.26006760e-01,  2.42243234e-01],\n",
       "       [-1.01255177e+00, -5.70207543e-01],\n",
       "       [-1.88534271e-01,  1.69974496e-01],\n",
       "       [ 8.82196533e-01,  5.01997615e-01],\n",
       "       [ 2.88741605e-01,  1.84432309e-01],\n",
       "       [-2.82598798e-01, -7.30627054e-01],\n",
       "       [-5.75246792e-01, -1.43421835e+00],\n",
       "       [-1.07943235e+00, -7.45225075e-01],\n",
       "       [-8.79059977e-01, -5.99353297e-01],\n",
       "       [ 2.04807268e-01, -2.35693734e-01],\n",
       "       [-8.31470154e-01, -5.70207543e-01],\n",
       "       [-1.27102574e+00, -1.30182715e+00],\n",
       "       [ 1.48782962e-01,  1.98888084e-01],\n",
       "       [ 8.63738821e-01,  1.29192769e+00],\n",
       "       [ 1.95473684e-01, -8.62097595e-01],\n",
       "       [ 8.63738821e-01,  2.27793542e-01],\n",
       "       [-2.07334237e-01,  2.71136572e-01],\n",
       "       [-4.77382654e-02,  6.87122981e-02],\n",
       "       [-2.03561569e+00, -2.12951504e+00],\n",
       "       [-7.64919235e-01, -8.32864635e-01],\n",
       "       [-1.07943235e+00, -1.18433357e+00],\n",
       "       [-8.60018674e-01, -7.74428436e-01],\n",
       "       [-1.25183219e+00, -1.14031796e+00],\n",
       "       [ 5.49102102e-01,  5.88442146e-01],\n",
       "       [ 1.20432807e+00,  9.76609433e-01],\n",
       "       [-6.41553261e-01, -3.80986911e-01],\n",
       "       [-8.12446730e-01, -3.37375473e-01],\n",
       "       [ 3.63248102e-01,  1.26588777e-01],\n",
       "       [ 8.91423325e-01,  1.43497973e+00],\n",
       "       [ 9.27036584e-02, -2.06661715e-01],\n",
       "       [-8.85321921e-04,  1.41052735e-01],\n",
       "       [ 3.72554732e-01,  1.98888084e-01],\n",
       "       [-4.80668375e-01, -4.24618726e-01],\n",
       "       [-9.74374832e-01,  6.87122981e-02],\n",
       "       [ 1.59788776e+00,  1.56358419e+00],\n",
       "       [ 1.39440243e-01, -9.06207417e-02],\n",
       "       [ 2.98060133e-01,  4.87583470e-01],\n",
       "       [-1.37672856e+00, -6.43089680e-01],\n",
       "       [ 1.79834188e+00,  1.32055158e+00],\n",
       "       [ 1.91651361e+00,  1.19169032e+00],\n",
       "       [ 1.14003307e+00,  1.56358419e+00],\n",
       "       [ 1.49743461e+00,  1.42068208e+00],\n",
       "       [ 1.06647334e+00,  8.76101726e-01],\n",
       "       [ 1.54311402e+00,  7.61126866e-01],\n",
       "       [ 2.14319864e+00,  1.97708871e+00],\n",
       "       [-7.17435837e-01, -1.77638454e-01],\n",
       "       [ 9.55972504e-01,  1.10570530e+00],\n",
       "       [-4.77382654e-02, -7.01438290e-01],\n",
       "       [-2.16736638e-01, -6.28508509e-01],\n",
       "       [ 3.16692708e-01, -3.68015766e-03],\n",
       "       [ 5.52866744e-02,  7.32364760e-01],\n",
       "       [-6.51032505e-01,  3.43334884e-01],\n",
       "       [ 1.02054048e-01,  9.33545493e-01],\n",
       "       [ 1.08487128e+00,  9.19187257e-01],\n",
       "       [ 1.48782962e-01,  5.42379902e-02],\n",
       "       [-7.45920603e-01, -3.95528577e-01],\n",
       "       [ 1.14922204e+00,  1.29192769e+00],\n",
       "       [-1.04120378e+00, -1.33122790e+00],\n",
       "       [ 2.79421581e-01, -3.95528577e-01],\n",
       "       [ 8.36041905e-01,  2.13341827e-01],\n",
       "       [-6.32075744e-01,  2.71136572e-01],\n",
       "       [ 7.99093297e-01,  6.89207668e-01],\n",
       "       [-6.79480636e-01, -8.03641602e-01],\n",
       "       [ 3.44630399e-01,  1.26588777e-01],\n",
       "       [ 1.04807002e+00,  1.53501694e+00],\n",
       "       [-7.45920603e-01, -4.39167223e-01],\n",
       "       [ 2.79421581e-01,  7.03595229e-01],\n",
       "       [ 1.17678100e+00,  1.09136837e+00],\n",
       "       [-2.30983617e+00, -1.53734802e+00],\n",
       "       [ 8.45275592e-01,  9.76609433e-01],\n",
       "       [-4.77382654e-02, -7.74428436e-01],\n",
       "       [-1.03165127e+00, -6.13929717e-01],\n",
       "       [ 2.14139338e-01,  3.57768580e-01],\n",
       "       [ 6.04745193e-01,  1.39208176e+00],\n",
       "       [-7.17435837e-01, -9.64492029e-01]])"
      ]
     },
     "execution_count": 13,
     "metadata": {},
     "output_type": "execute_result"
    }
   ],
   "source": [
    "pt = PowerTransformer().fit_transform(df)\n",
    "pt"
   ]
  },
  {
   "cell_type": "code",
   "execution_count": 14,
   "id": "cc61a2cb-db46-48c7-86b7-7a7000eb2314",
   "metadata": {},
   "outputs": [
    {
     "data": {
      "text/html": [
       "<div>\n",
       "<style scoped>\n",
       "    .dataframe tbody tr th:only-of-type {\n",
       "        vertical-align: middle;\n",
       "    }\n",
       "\n",
       "    .dataframe tbody tr th {\n",
       "        vertical-align: top;\n",
       "    }\n",
       "\n",
       "    .dataframe thead th {\n",
       "        text-align: right;\n",
       "    }\n",
       "</style>\n",
       "<table border=\"1\" class=\"dataframe\">\n",
       "  <thead>\n",
       "    <tr style=\"text-align: right;\">\n",
       "      <th></th>\n",
       "      <th>cgpa</th>\n",
       "      <th>package</th>\n",
       "    </tr>\n",
       "  </thead>\n",
       "  <tbody>\n",
       "    <tr>\n",
       "      <th>0</th>\n",
       "      <td>-0.085249</td>\n",
       "      <td>0.386630</td>\n",
       "    </tr>\n",
       "    <tr>\n",
       "      <th>1</th>\n",
       "      <td>-1.772840</td>\n",
       "      <td>-1.478400</td>\n",
       "    </tr>\n",
       "    <tr>\n",
       "      <th>2</th>\n",
       "      <td>0.780611</td>\n",
       "      <td>0.372200</td>\n",
       "    </tr>\n",
       "    <tr>\n",
       "      <th>3</th>\n",
       "      <td>0.409766</td>\n",
       "      <td>0.976609</td>\n",
       "    </tr>\n",
       "    <tr>\n",
       "      <th>4</th>\n",
       "      <td>-0.038365</td>\n",
       "      <td>0.833000</td>\n",
       "    </tr>\n",
       "    <tr>\n",
       "      <th>...</th>\n",
       "      <td>...</td>\n",
       "      <td>...</td>\n",
       "    </tr>\n",
       "    <tr>\n",
       "      <th>195</th>\n",
       "      <td>-0.047738</td>\n",
       "      <td>-0.774428</td>\n",
       "    </tr>\n",
       "    <tr>\n",
       "      <th>196</th>\n",
       "      <td>-1.031651</td>\n",
       "      <td>-0.613930</td>\n",
       "    </tr>\n",
       "    <tr>\n",
       "      <th>197</th>\n",
       "      <td>0.214139</td>\n",
       "      <td>0.357769</td>\n",
       "    </tr>\n",
       "    <tr>\n",
       "      <th>198</th>\n",
       "      <td>0.604745</td>\n",
       "      <td>1.392082</td>\n",
       "    </tr>\n",
       "    <tr>\n",
       "      <th>199</th>\n",
       "      <td>-0.717436</td>\n",
       "      <td>-0.964492</td>\n",
       "    </tr>\n",
       "  </tbody>\n",
       "</table>\n",
       "<p>200 rows × 2 columns</p>\n",
       "</div>"
      ],
      "text/plain": [
       "         cgpa   package\n",
       "0   -0.085249  0.386630\n",
       "1   -1.772840 -1.478400\n",
       "2    0.780611  0.372200\n",
       "3    0.409766  0.976609\n",
       "4   -0.038365  0.833000\n",
       "..        ...       ...\n",
       "195 -0.047738 -0.774428\n",
       "196 -1.031651 -0.613930\n",
       "197  0.214139  0.357769\n",
       "198  0.604745  1.392082\n",
       "199 -0.717436 -0.964492\n",
       "\n",
       "[200 rows x 2 columns]"
      ]
     },
     "execution_count": 14,
     "metadata": {},
     "output_type": "execute_result"
    }
   ],
   "source": [
    "# Creating a DataFrame from the normalized data.\n",
    "df_pt = pd.DataFrame(data=pt, columns=df.columns)\n",
    "df_pt"
   ]
  },
  {
   "cell_type": "code",
   "execution_count": 15,
   "id": "b7768243-0d8b-4357-8836-391494e97c32",
   "metadata": {},
   "outputs": [
    {
     "data": {
      "image/png": "[encoded data removed]",
      "text/plain": [
       "<Figure size 1000x500 with 2 Axes>"
      ]
     },
     "metadata": {},
     "output_type": "display_data"
    }
   ],
   "source": [
    "# Setting size of the density plots\n",
    "plt.rcParams['figure.figsize'] = [10, 5]\n",
    "\n",
    "# Creating the density plots and setting layout\n",
    "df_pt.plot(kind = 'density', subplots = True, sharex = False, layout = (1, 2))\n",
    "plt.show()"
   ]
  },
  {
   "cell_type": "code",
   "execution_count": 16,
   "id": "b8a2515f-0641-48ec-a72d-324e4119f003",
   "metadata": {},
   "outputs": [],
   "source": [
    "# Splitting the data into input (X) and output (y) variables.\n",
    "\n",
    "X = df_pt['cgpa']\n",
    "y = df_pt['package']\n",
    "X = sm.tools.add_constant(X)"
   ]
  },
  {
   "cell_type": "code",
   "execution_count": 17,
   "id": "8fc4fa68-09fe-4875-8e88-eb546d70488f",
   "metadata": {
    "scrolled": true
   },
   "outputs": [
    {
     "data": {
      "text/html": [
       "<div>\n",
       "<style scoped>\n",
       "    .dataframe tbody tr th:only-of-type {\n",
       "        vertical-align: middle;\n",
       "    }\n",
       "\n",
       "    .dataframe tbody tr th {\n",
       "        vertical-align: top;\n",
       "    }\n",
       "\n",
       "    .dataframe thead th {\n",
       "        text-align: right;\n",
       "    }\n",
       "</style>\n",
       "<table border=\"1\" class=\"dataframe\">\n",
       "  <thead>\n",
       "    <tr style=\"text-align: right;\">\n",
       "      <th></th>\n",
       "      <th>const</th>\n",
       "      <th>cgpa</th>\n",
       "    </tr>\n",
       "  </thead>\n",
       "  <tbody>\n",
       "    <tr>\n",
       "      <th>0</th>\n",
       "      <td>1.0</td>\n",
       "      <td>-0.085249</td>\n",
       "    </tr>\n",
       "    <tr>\n",
       "      <th>1</th>\n",
       "      <td>1.0</td>\n",
       "      <td>-1.772840</td>\n",
       "    </tr>\n",
       "    <tr>\n",
       "      <th>2</th>\n",
       "      <td>1.0</td>\n",
       "      <td>0.780611</td>\n",
       "    </tr>\n",
       "    <tr>\n",
       "      <th>3</th>\n",
       "      <td>1.0</td>\n",
       "      <td>0.409766</td>\n",
       "    </tr>\n",
       "    <tr>\n",
       "      <th>4</th>\n",
       "      <td>1.0</td>\n",
       "      <td>-0.038365</td>\n",
       "    </tr>\n",
       "    <tr>\n",
       "      <th>...</th>\n",
       "      <td>...</td>\n",
       "      <td>...</td>\n",
       "    </tr>\n",
       "    <tr>\n",
       "      <th>195</th>\n",
       "      <td>1.0</td>\n",
       "      <td>-0.047738</td>\n",
       "    </tr>\n",
       "    <tr>\n",
       "      <th>196</th>\n",
       "      <td>1.0</td>\n",
       "      <td>-1.031651</td>\n",
       "    </tr>\n",
       "    <tr>\n",
       "      <th>197</th>\n",
       "      <td>1.0</td>\n",
       "      <td>0.214139</td>\n",
       "    </tr>\n",
       "    <tr>\n",
       "      <th>198</th>\n",
       "      <td>1.0</td>\n",
       "      <td>0.604745</td>\n",
       "    </tr>\n",
       "    <tr>\n",
       "      <th>199</th>\n",
       "      <td>1.0</td>\n",
       "      <td>-0.717436</td>\n",
       "    </tr>\n",
       "  </tbody>\n",
       "</table>\n",
       "<p>200 rows × 2 columns</p>\n",
       "</div>"
      ],
      "text/plain": [
       "     const      cgpa\n",
       "0      1.0 -0.085249\n",
       "1      1.0 -1.772840\n",
       "2      1.0  0.780611\n",
       "3      1.0  0.409766\n",
       "4      1.0 -0.038365\n",
       "..     ...       ...\n",
       "195    1.0 -0.047738\n",
       "196    1.0 -1.031651\n",
       "197    1.0  0.214139\n",
       "198    1.0  0.604745\n",
       "199    1.0 -0.717436\n",
       "\n",
       "[200 rows x 2 columns]"
      ]
     },
     "execution_count": 17,
     "metadata": {},
     "output_type": "execute_result"
    }
   ],
   "source": [
    "X"
   ]
  },
  {
   "cell_type": "code",
   "execution_count": 18,
   "id": "6d588855-1db5-4eef-bc14-7f001032d813",
   "metadata": {},
   "outputs": [
    {
     "data": {
      "text/plain": [
       "0      0.386630\n",
       "1     -1.478400\n",
       "2      0.372200\n",
       "3      0.976609\n",
       "4      0.833000\n",
       "         ...   \n",
       "195   -0.774428\n",
       "196   -0.613930\n",
       "197    0.357769\n",
       "198    1.392082\n",
       "199   -0.964492\n",
       "Name: package, Length: 200, dtype: float64"
      ]
     },
     "execution_count": 18,
     "metadata": {},
     "output_type": "execute_result"
    }
   ],
   "source": [
    "y"
   ]
  },
  {
   "cell_type": "code",
   "execution_count": 19,
   "id": "a8c2b3e4-3111-4f8f-a7ea-4b2fe23955b6",
   "metadata": {},
   "outputs": [],
   "source": [
    "# Splitting data into train and test sets\n",
    "X_train, X_test, y_train, y_test = train_test_split(X, y, test_size=0.3, random_state=42)"
   ]
  },
  {
   "cell_type": "markdown",
   "id": "6994e6dd-7bdd-4112-bd0e-210063698aee",
   "metadata": {},
   "source": [
    "Now the data is ready for the linear regression model."
   ]
  },
  {
   "cell_type": "markdown",
   "id": "8e6bf26d-cd98-475b-aa1c-ecfc20860ce5",
   "metadata": {},
   "source": [
    "# Training and evaluating the linear regression model"
   ]
  },
  {
   "cell_type": "markdown",
   "id": "32644baf-aed6-4294-9c2e-80dc8040e5e2",
   "metadata": {},
   "source": [
    "Here we are using linear regression with Ordinary Least Squares (OLS) method.\n",
    "\n",
    "OLS minimizes the sum of squared residuals. Residuals are the differences between the actual Y values and the predicted Y values on the regression line. By minimizing the sum of squared residuals, we find the line that best fits the data points."
   ]
  },
  {
   "cell_type": "code",
   "execution_count": 20,
   "id": "8c3bc57a-9029-4004-bb1d-26e23b1f23ae",
   "metadata": {},
   "outputs": [
    {
     "name": "stdout",
     "output_type": "stream",
     "text": [
      "                            OLS Regression Results                            \n",
      "==============================================================================\n",
      "Dep. Variable:                package   R-squared:                       0.783\n",
      "Model:                            OLS   Adj. R-squared:                  0.782\n",
      "Method:                 Least Squares   F-statistic:                     499.2\n",
      "Date:                Tue, 05 Dec 2023   Prob (F-statistic):           1.10e-47\n",
      "Time:                        14:26:10   Log-Likelihood:                -95.779\n",
      "No. Observations:                 140   AIC:                             195.6\n",
      "Df Residuals:                     138   BIC:                             201.4\n",
      "Df Model:                           1                                         \n",
      "Covariance Type:            nonrobust                                         \n",
      "==============================================================================\n",
      "                 coef    std err          t      P>|t|      [0.025      0.975]\n",
      "------------------------------------------------------------------------------\n",
      "const          0.0131      0.041      0.321      0.749      -0.068       0.094\n",
      "cgpa           0.8829      0.040     22.342      0.000       0.805       0.961\n",
      "==============================================================================\n",
      "Omnibus:                        0.071   Durbin-Watson:                   1.992\n",
      "Prob(Omnibus):                  0.965   Jarque-Bera (JB):                0.108\n",
      "Skew:                          -0.052   Prob(JB):                        0.947\n",
      "Kurtosis:                       2.912   Cond. No.                         1.04\n",
      "==============================================================================\n",
      "\n",
      "Notes:\n",
      "[1] Standard Errors assume that the covariance matrix of the errors is correctly specified.\n"
     ]
    }
   ],
   "source": [
    "model = sm.OLS(y_train, X_train).fit()\n",
    "print(model.summary())"
   ]
  },
  {
   "cell_type": "markdown",
   "id": "e68af78c-0710-4bc1-8662-8d3d2f5113cd",
   "metadata": {},
   "source": [
    "## Definition of R squared:\n",
    "The coefficient of determination, which indicates the proportion of the variance in the dependent variable that is predictable from the independent variable(s)."
   ]
  },
  {
   "cell_type": "markdown",
   "id": "ce95daa5-d373-411b-9fce-342061cd175b",
   "metadata": {},
   "source": [
    "For r-squared and adjusted r-squared, the values can range between 0 and 1. The closer the value is to 1, the more accurate the model is.\n",
    "\n",
    "Here, the values are around 0.8. This indicates that the model is accurate."
   ]
  },
  {
   "cell_type": "code",
   "execution_count": 21,
   "id": "19602566-26f3-4a3b-8ac8-ccc28134aae6",
   "metadata": {
    "scrolled": true
   },
   "outputs": [
    {
     "data": {
      "text/plain": [
       "95    -0.277977\n",
       "15     0.235089\n",
       "30     0.325571\n",
       "158   -0.847139\n",
       "128    0.791945\n",
       "115    1.133047\n",
       "69     0.276237\n",
       "170   -0.620299\n",
       "174    0.292687\n",
       "45     0.743044\n",
       "66    -1.560636\n",
       "182   -0.906139\n",
       "165    1.019578\n",
       "78    -0.311265\n",
       "186    0.718577\n",
       "177    0.103192\n",
       "56    -0.939890\n",
       "152    0.333789\n",
       "82    -1.159915\n",
       "68     0.489679\n",
       "124   -0.754584\n",
       "16    -0.103597\n",
       "148    0.497871\n",
       "93    -0.145059\n",
       "65     0.522439\n",
       "60    -1.134469\n",
       "84    -2.296095\n",
       "67    -0.377910\n",
       "125    0.300910\n",
       "132   -0.939890\n",
       "9      1.100650\n",
       "18    -0.020777\n",
       "55     1.011464\n",
       "75     0.004041\n",
       "150   -0.553306\n",
       "104    0.538811\n",
       "135   -0.720975\n",
       "137    0.144447\n",
       "164    1.705098\n",
       "76    -0.020777\n",
       "79     0.177427\n",
       "197    0.202147\n",
       "38     1.351246\n",
       "24    -0.361240\n",
       "122   -1.552068\n",
       "195   -0.029053\n",
       "29     0.152694\n",
       "19     0.424098\n",
       "143   -1.784061\n",
       "86     0.530626\n",
       "114   -0.939890\n",
       "173   -0.178254\n",
       "5      0.759349\n",
       "126   -0.880844\n",
       "117    0.127949\n",
       "73     1.205872\n",
       "140    0.775650\n",
       "98     0.596075\n",
       "172   -0.029053\n",
       "96     0.119698\n",
       "dtype: float64"
      ]
     },
     "execution_count": 21,
     "metadata": {},
     "output_type": "execute_result"
    }
   ],
   "source": [
    "y_pred = model.predict(X_test)\n",
    "y_pred"
   ]
  },
  {
   "cell_type": "code",
   "execution_count": 22,
   "id": "d9630f04-e927-4d60-ab63-4ca7605fb137",
   "metadata": {},
   "outputs": [
    {
     "data": {
      "text/html": [
       "<div>\n",
       "<style scoped>\n",
       "    .dataframe tbody tr th:only-of-type {\n",
       "        vertical-align: middle;\n",
       "    }\n",
       "\n",
       "    .dataframe tbody tr th {\n",
       "        vertical-align: top;\n",
       "    }\n",
       "\n",
       "    .dataframe thead th {\n",
       "        text-align: right;\n",
       "    }\n",
       "</style>\n",
       "<table border=\"1\" class=\"dataframe\">\n",
       "  <thead>\n",
       "    <tr style=\"text-align: right;\">\n",
       "      <th></th>\n",
       "      <th>const</th>\n",
       "      <th>cgpa</th>\n",
       "    </tr>\n",
       "  </thead>\n",
       "  <tbody>\n",
       "    <tr>\n",
       "      <th>95</th>\n",
       "      <td>1.0</td>\n",
       "      <td>-0.329692</td>\n",
       "    </tr>\n",
       "    <tr>\n",
       "      <th>15</th>\n",
       "      <td>1.0</td>\n",
       "      <td>0.251453</td>\n",
       "    </tr>\n",
       "    <tr>\n",
       "      <th>30</th>\n",
       "      <td>1.0</td>\n",
       "      <td>0.353940</td>\n",
       "    </tr>\n",
       "    <tr>\n",
       "      <th>158</th>\n",
       "      <td>1.0</td>\n",
       "      <td>-0.974375</td>\n",
       "    </tr>\n",
       "    <tr>\n",
       "      <th>128</th>\n",
       "      <td>1.0</td>\n",
       "      <td>0.882197</td>\n",
       "    </tr>\n",
       "    <tr>\n",
       "      <th>115</th>\n",
       "      <td>1.0</td>\n",
       "      <td>1.268559</td>\n",
       "    </tr>\n",
       "    <tr>\n",
       "      <th>69</th>\n",
       "      <td>1.0</td>\n",
       "      <td>0.298060</td>\n",
       "    </tr>\n",
       "    <tr>\n",
       "      <th>170</th>\n",
       "      <td>1.0</td>\n",
       "      <td>-0.717436</td>\n",
       "    </tr>\n",
       "    <tr>\n",
       "      <th>174</th>\n",
       "      <td>1.0</td>\n",
       "      <td>0.316693</td>\n",
       "    </tr>\n",
       "    <tr>\n",
       "      <th>45</th>\n",
       "      <td>1.0</td>\n",
       "      <td>0.826807</td>\n",
       "    </tr>\n",
       "    <tr>\n",
       "      <th>66</th>\n",
       "      <td>1.0</td>\n",
       "      <td>-1.782544</td>\n",
       "    </tr>\n",
       "    <tr>\n",
       "      <th>182</th>\n",
       "      <td>1.0</td>\n",
       "      <td>-1.041204</td>\n",
       "    </tr>\n",
       "    <tr>\n",
       "      <th>165</th>\n",
       "      <td>1.0</td>\n",
       "      <td>1.140033</td>\n",
       "    </tr>\n",
       "    <tr>\n",
       "      <th>78</th>\n",
       "      <td>1.0</td>\n",
       "      <td>-0.367396</td>\n",
       "    </tr>\n",
       "    <tr>\n",
       "      <th>186</th>\n",
       "      <td>1.0</td>\n",
       "      <td>0.799093</td>\n",
       "    </tr>\n",
       "    <tr>\n",
       "      <th>177</th>\n",
       "      <td>1.0</td>\n",
       "      <td>0.102054</td>\n",
       "    </tr>\n",
       "    <tr>\n",
       "      <th>56</th>\n",
       "      <td>1.0</td>\n",
       "      <td>-1.079432</td>\n",
       "    </tr>\n",
       "    <tr>\n",
       "      <th>152</th>\n",
       "      <td>1.0</td>\n",
       "      <td>0.363248</td>\n",
       "    </tr>\n",
       "    <tr>\n",
       "      <th>82</th>\n",
       "      <td>1.0</td>\n",
       "      <td>-1.328653</td>\n",
       "    </tr>\n",
       "    <tr>\n",
       "      <th>68</th>\n",
       "      <td>1.0</td>\n",
       "      <td>0.539823</td>\n",
       "    </tr>\n",
       "    <tr>\n",
       "      <th>124</th>\n",
       "      <td>1.0</td>\n",
       "      <td>-0.869538</td>\n",
       "    </tr>\n",
       "    <tr>\n",
       "      <th>16</th>\n",
       "      <td>1.0</td>\n",
       "      <td>-0.132173</td>\n",
       "    </tr>\n",
       "    <tr>\n",
       "      <th>148</th>\n",
       "      <td>1.0</td>\n",
       "      <td>0.549102</td>\n",
       "    </tr>\n",
       "    <tr>\n",
       "      <th>93</th>\n",
       "      <td>1.0</td>\n",
       "      <td>-0.179137</td>\n",
       "    </tr>\n",
       "    <tr>\n",
       "      <th>65</th>\n",
       "      <td>1.0</td>\n",
       "      <td>0.576930</td>\n",
       "    </tr>\n",
       "    <tr>\n",
       "      <th>60</th>\n",
       "      <td>1.0</td>\n",
       "      <td>-1.299831</td>\n",
       "    </tr>\n",
       "    <tr>\n",
       "      <th>84</th>\n",
       "      <td>1.0</td>\n",
       "      <td>-2.615590</td>\n",
       "    </tr>\n",
       "    <tr>\n",
       "      <th>67</th>\n",
       "      <td>1.0</td>\n",
       "      <td>-0.442884</td>\n",
       "    </tr>\n",
       "    <tr>\n",
       "      <th>125</th>\n",
       "      <td>1.0</td>\n",
       "      <td>0.326007</td>\n",
       "    </tr>\n",
       "    <tr>\n",
       "      <th>132</th>\n",
       "      <td>1.0</td>\n",
       "      <td>-1.079432</td>\n",
       "    </tr>\n",
       "    <tr>\n",
       "      <th>9</th>\n",
       "      <td>1.0</td>\n",
       "      <td>1.231863</td>\n",
       "    </tr>\n",
       "    <tr>\n",
       "      <th>18</th>\n",
       "      <td>1.0</td>\n",
       "      <td>-0.038365</td>\n",
       "    </tr>\n",
       "    <tr>\n",
       "      <th>55</th>\n",
       "      <td>1.0</td>\n",
       "      <td>1.130843</td>\n",
       "    </tr>\n",
       "    <tr>\n",
       "      <th>75</th>\n",
       "      <td>1.0</td>\n",
       "      <td>-0.010253</td>\n",
       "    </tr>\n",
       "    <tr>\n",
       "      <th>150</th>\n",
       "      <td>1.0</td>\n",
       "      <td>-0.641553</td>\n",
       "    </tr>\n",
       "    <tr>\n",
       "      <th>104</th>\n",
       "      <td>1.0</td>\n",
       "      <td>0.595475</td>\n",
       "    </tr>\n",
       "    <tr>\n",
       "      <th>135</th>\n",
       "      <td>1.0</td>\n",
       "      <td>-0.831470</td>\n",
       "    </tr>\n",
       "    <tr>\n",
       "      <th>137</th>\n",
       "      <td>1.0</td>\n",
       "      <td>0.148783</td>\n",
       "    </tr>\n",
       "    <tr>\n",
       "      <th>164</th>\n",
       "      <td>1.0</td>\n",
       "      <td>1.916514</td>\n",
       "    </tr>\n",
       "    <tr>\n",
       "      <th>76</th>\n",
       "      <td>1.0</td>\n",
       "      <td>-0.038365</td>\n",
       "    </tr>\n",
       "    <tr>\n",
       "      <th>79</th>\n",
       "      <td>1.0</td>\n",
       "      <td>0.186139</td>\n",
       "    </tr>\n",
       "    <tr>\n",
       "      <th>197</th>\n",
       "      <td>1.0</td>\n",
       "      <td>0.214139</td>\n",
       "    </tr>\n",
       "    <tr>\n",
       "      <th>38</th>\n",
       "      <td>1.0</td>\n",
       "      <td>1.515710</td>\n",
       "    </tr>\n",
       "    <tr>\n",
       "      <th>24</th>\n",
       "      <td>1.0</td>\n",
       "      <td>-0.424002</td>\n",
       "    </tr>\n",
       "    <tr>\n",
       "      <th>122</th>\n",
       "      <td>1.0</td>\n",
       "      <td>-1.772840</td>\n",
       "    </tr>\n",
       "    <tr>\n",
       "      <th>195</th>\n",
       "      <td>1.0</td>\n",
       "      <td>-0.047738</td>\n",
       "    </tr>\n",
       "    <tr>\n",
       "      <th>29</th>\n",
       "      <td>1.0</td>\n",
       "      <td>0.158124</td>\n",
       "    </tr>\n",
       "    <tr>\n",
       "      <th>19</th>\n",
       "      <td>1.0</td>\n",
       "      <td>0.465540</td>\n",
       "    </tr>\n",
       "    <tr>\n",
       "      <th>143</th>\n",
       "      <td>1.0</td>\n",
       "      <td>-2.035616</td>\n",
       "    </tr>\n",
       "    <tr>\n",
       "      <th>86</th>\n",
       "      <td>1.0</td>\n",
       "      <td>0.586203</td>\n",
       "    </tr>\n",
       "    <tr>\n",
       "      <th>114</th>\n",
       "      <td>1.0</td>\n",
       "      <td>-1.079432</td>\n",
       "    </tr>\n",
       "    <tr>\n",
       "      <th>173</th>\n",
       "      <td>1.0</td>\n",
       "      <td>-0.216737</td>\n",
       "    </tr>\n",
       "    <tr>\n",
       "      <th>5</th>\n",
       "      <td>1.0</td>\n",
       "      <td>0.845276</td>\n",
       "    </tr>\n",
       "    <tr>\n",
       "      <th>126</th>\n",
       "      <td>1.0</td>\n",
       "      <td>-1.012552</td>\n",
       "    </tr>\n",
       "    <tr>\n",
       "      <th>117</th>\n",
       "      <td>1.0</td>\n",
       "      <td>0.130096</td>\n",
       "    </tr>\n",
       "    <tr>\n",
       "      <th>73</th>\n",
       "      <td>1.0</td>\n",
       "      <td>1.351047</td>\n",
       "    </tr>\n",
       "    <tr>\n",
       "      <th>140</th>\n",
       "      <td>1.0</td>\n",
       "      <td>0.863739</td>\n",
       "    </tr>\n",
       "    <tr>\n",
       "      <th>98</th>\n",
       "      <td>1.0</td>\n",
       "      <td>0.660337</td>\n",
       "    </tr>\n",
       "    <tr>\n",
       "      <th>172</th>\n",
       "      <td>1.0</td>\n",
       "      <td>-0.047738</td>\n",
       "    </tr>\n",
       "    <tr>\n",
       "      <th>96</th>\n",
       "      <td>1.0</td>\n",
       "      <td>0.120750</td>\n",
       "    </tr>\n",
       "  </tbody>\n",
       "</table>\n",
       "</div>"
      ],
      "text/plain": [
       "     const      cgpa\n",
       "95     1.0 -0.329692\n",
       "15     1.0  0.251453\n",
       "30     1.0  0.353940\n",
       "158    1.0 -0.974375\n",
       "128    1.0  0.882197\n",
       "115    1.0  1.268559\n",
       "69     1.0  0.298060\n",
       "170    1.0 -0.717436\n",
       "174    1.0  0.316693\n",
       "45     1.0  0.826807\n",
       "66     1.0 -1.782544\n",
       "182    1.0 -1.041204\n",
       "165    1.0  1.140033\n",
       "78     1.0 -0.367396\n",
       "186    1.0  0.799093\n",
       "177    1.0  0.102054\n",
       "56     1.0 -1.079432\n",
       "152    1.0  0.363248\n",
       "82     1.0 -1.328653\n",
       "68     1.0  0.539823\n",
       "124    1.0 -0.869538\n",
       "16     1.0 -0.132173\n",
       "148    1.0  0.549102\n",
       "93     1.0 -0.179137\n",
       "65     1.0  0.576930\n",
       "60     1.0 -1.299831\n",
       "84     1.0 -2.615590\n",
       "67     1.0 -0.442884\n",
       "125    1.0  0.326007\n",
       "132    1.0 -1.079432\n",
       "9      1.0  1.231863\n",
       "18     1.0 -0.038365\n",
       "55     1.0  1.130843\n",
       "75     1.0 -0.010253\n",
       "150    1.0 -0.641553\n",
       "104    1.0  0.595475\n",
       "135    1.0 -0.831470\n",
       "137    1.0  0.148783\n",
       "164    1.0  1.916514\n",
       "76     1.0 -0.038365\n",
       "79     1.0  0.186139\n",
       "197    1.0  0.214139\n",
       "38     1.0  1.515710\n",
       "24     1.0 -0.424002\n",
       "122    1.0 -1.772840\n",
       "195    1.0 -0.047738\n",
       "29     1.0  0.158124\n",
       "19     1.0  0.465540\n",
       "143    1.0 -2.035616\n",
       "86     1.0  0.586203\n",
       "114    1.0 -1.079432\n",
       "173    1.0 -0.216737\n",
       "5      1.0  0.845276\n",
       "126    1.0 -1.012552\n",
       "117    1.0  0.130096\n",
       "73     1.0  1.351047\n",
       "140    1.0  0.863739\n",
       "98     1.0  0.660337\n",
       "172    1.0 -0.047738\n",
       "96     1.0  0.120750"
      ]
     },
     "execution_count": 22,
     "metadata": {},
     "output_type": "execute_result"
    }
   ],
   "source": [
    "X_test"
   ]
  },
  {
   "cell_type": "markdown",
   "id": "8004123f-a26b-4347-af93-5f0ea44b93a2",
   "metadata": {},
   "source": [
    "## Definition of Mean Squared Error:\n",
    "The average of the squared differences between the predicted and actual values."
   ]
  },
  {
   "cell_type": "code",
   "execution_count": 23,
   "id": "0f488a5e-1ba5-44dc-8027-2fb3bca5cb39",
   "metadata": {},
   "outputs": [
    {
     "data": {
      "text/plain": [
       "0.20973617177852286"
      ]
     },
     "execution_count": 23,
     "metadata": {},
     "output_type": "execute_result"
    }
   ],
   "source": [
    "from sklearn.metrics import mean_squared_error\n",
    "mean_squared_error(y_test, y_pred)"
   ]
  },
  {
   "cell_type": "markdown",
   "id": "62a083ff-2b9b-4845-b919-7d1747599cdb",
   "metadata": {},
   "source": [
    "## Definition of Mean Absolute Error:\n",
    "The average of the absolute differences between the predicted and actual values."
   ]
  },
  {
   "cell_type": "code",
   "execution_count": 24,
   "id": "c2a32623-866f-4edb-9cd3-3703d8eea3fa",
   "metadata": {},
   "outputs": [
    {
     "data": {
      "text/plain": [
       "0.3777904535118784"
      ]
     },
     "execution_count": 24,
     "metadata": {},
     "output_type": "execute_result"
    }
   ],
   "source": [
    "from sklearn.metrics import mean_absolute_error\n",
    "mean_absolute_error(y_test, y_pred)"
   ]
  },
  {
   "cell_type": "markdown",
   "id": "1428baa7-042d-45fd-b5e4-f802cc0e613f",
   "metadata": {},
   "source": [
    "## Definition of Mean Absolute Percentage Error:\n",
    "The average of the absolute percentage differences between the predicted and actual values."
   ]
  },
  {
   "cell_type": "code",
   "execution_count": 25,
   "id": "7571a00b-012c-4ac6-b993-1d3f75ed4bd6",
   "metadata": {},
   "outputs": [
    {
     "data": {
      "text/plain": [
       "8.7951525529434"
      ]
     },
     "execution_count": 25,
     "metadata": {},
     "output_type": "execute_result"
    }
   ],
   "source": [
    "from sklearn.metrics import mean_absolute_percentage_error\n",
    "mean_absolute_percentage_error(y_test, y_pred)"
   ]
  },
  {
   "cell_type": "markdown",
   "id": "1902973f-82a7-4b30-b0fd-95aff7996d79",
   "metadata": {},
   "source": [
    "For the above 3 metrics, lower values are better. Since the values are low (less than 10% error), the model is accurate."
   ]
  }
 ],
 "metadata": {
  "kernelspec": {
   "display_name": "Python 3 (ipykernel)",
   "language": "python",
   "name": "python3"
  },
  "language_info": {
   "codemirror_mode": {
    "name": "ipython",
    "version": 3
   },
   "file_extension": ".py",
   "mimetype": "text/x-python",
   "name": "python",
   "nbconvert_exporter": "python",
   "pygments_lexer": "ipython3",
   "version": "3.12.0b4"
  }
 },
 "nbformat": 4,
 "nbformat_minor": 5
}
